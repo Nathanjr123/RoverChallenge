{
  "nbformat": 4,
  "nbformat_minor": 0,
  "metadata": {
    "colab": {
      "provenance": [],
      "collapsed_sections": []
    },
    "kernelspec": {
      "name": "python3",
      "display_name": "Python 3"
    },
    "language_info": {
      "name": "python"
    }
  },
  "cells": [
    {
      "cell_type": "code",
      "source": [
        "from collections import Counter\n",
        "\n",
        "num_rovers = int(input(\"how many rovers are on board?  >>>\"))\n",
        "top_corner = input(\"What is the upper right coordinate seperated by comma eg 3,2?  >>>\")\n",
        "\n",
        "rovers_initial_pos = []\n",
        "rovers_steps = []\n",
        "\n",
        "set_of_paths = []\n",
        "for i in range(num_rovers):\n",
        "  rovers_initial_pos.append(input(\"What is rover %s\\'s initial position seperated by comma, e.g >>> 2,1  \\n>>> \"%(i+1)).split(\",\"))\n",
        "  rovers_steps.append(input(\"What are the series of steps for rover %s >>>\"%(i+1)))\n",
        "#cleaning initial positin to int\n",
        "for j in range(len(rovers_initial_pos)):\n",
        "  rovers_initial_pos[j] = [eval(i) for i in rovers_initial_pos[j]]\n",
        "for j in range(len(rovers_steps)):#this for-loop navigates the rovers\n",
        "  l = [tuple(rovers_initial_pos[j])]\n",
        "  for i  in range(len(rovers_steps[j])):\n",
        "    if rovers_steps[j][i]=='N':\n",
        "      rovers_initial_pos[j][1] = rovers_initial_pos[j][1] +1\n",
        "      l.append( tuple(rovers_initial_pos[j]))\n",
        "\n",
        "      continue\n",
        "    if rovers_steps[j][i]=='E':\n",
        "      rovers_initial_pos[j][0] = rovers_initial_pos[j][0] +1\n",
        "      l.append( tuple(rovers_initial_pos[j]))\n",
        "\n",
        "      continue\n",
        "    if rovers_steps[j][i]=='S':\n",
        "      rovers_initial_pos[j][1] = rovers_initial_pos[j][1] - 1\n",
        "      l.append(tuple(rovers_initial_pos[j]))\n",
        "\n",
        "      continue\n",
        "    if rovers_steps[j][i]=='W':\n",
        "      rovers_initial_pos[j][0] = rovers_initial_pos[j][0] -1\n",
        "      l.append( tuple(rovers_initial_pos[j]))\n",
        "\n",
        "      continue\n",
        "  set_of_paths.append(l)\n",
        "def intersection(*listas):#this function returns the intersection of n sets\n",
        "  return set(listas[0]).intersection(*listas[1:])\n",
        "args = set_of_paths\n",
        "args = [tuple(x) for x in args]\n",
        "for i in range(len(args)):\n",
        "  args[i] = [tuple(x) for x in args[i]]\n",
        "\n",
        "intersection_points = list(intersection(*args))\n",
        "print(\"There are %s intersection points\"%len(intersection_points))\n",
        "for i in range(len(intersection_points)):\n",
        "  print(\"intersection point %s is %s\"%(i+1,intersection_points[i]))\n"
      ],
      "metadata": {
        "id": "Edx9NUo8NxCM"
      },
      "execution_count": null,
      "outputs": []
    }
  ]
}